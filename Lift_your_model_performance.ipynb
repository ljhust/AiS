{
  "nbformat": 4,
  "nbformat_minor": 0,
  "metadata": {
    "colab": {
      "name": "Lift your model performance.ipynb",
      "provenance": [],
      "authorship_tag": "ABX9TyNzcLy0hydu/lUtJw78Lqbe",
      "include_colab_link": true
    },
    "kernelspec": {
      "name": "python3",
      "display_name": "Python 3"
    }
  },
  "cells": [
    {
      "cell_type": "markdown",
      "metadata": {
        "id": "view-in-github",
        "colab_type": "text"
      },
      "source": [
        "<a href=\"https://colab.research.google.com/github/ljhust/AiS/blob/master/Lift_your_model_performance.ipynb\" target=\"_parent\"><img src=\"https://colab.research.google.com/assets/colab-badge.svg\" alt=\"Open In Colab\"/></a>"
      ]
    },
    {
      "cell_type": "markdown",
      "metadata": {
        "id": "UxpD-oAVru4y",
        "colab_type": "text"
      },
      "source": [
        "#### Major subjects and something concerns\n",
        "+ Data inspector\n",
        " - train data and test data in the same distribution.\n",
        " - look into the data.\n",
        "+ Feature\n",
        " - Auto features and their corrisponding weight.\n",
        " - Artificial feature.\n",
        "+ model debuging\n",
        " - metrics which how to evalutae your performance matter, chosing one or serveral profile your model comprehensively and correctly.\n",
        " - tensor-board like tool to use."
      ]
    },
    {
      "cell_type": "code",
      "metadata": {
        "id": "p3LxVIl0rh_G",
        "colab_type": "code",
        "colab": {}
      },
      "source": [
        ""
      ],
      "execution_count": 0,
      "outputs": []
    }
  ]
}